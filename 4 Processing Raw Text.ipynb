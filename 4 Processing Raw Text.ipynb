{
 "cells": [
  {
   "cell_type": "code",
   "execution_count": 1,
   "metadata": {},
   "outputs": [],
   "source": [
    "from urllib import request\n",
    "url = \"http://www.gutenberg.org/files/2554/2554-0.txt\"\n",
    "content1 = request.urlopen(url).read()"
   ]
  },
  {
   "cell_type": "code",
   "execution_count": 3,
   "metadata": {},
   "outputs": [],
   "source": [
    "from urllib import request\n",
    "\n",
    "url = \"http://www.bbc.com/news/health-42802191\"\n",
    "html_content = request.urlopen(url).read()\n",
    "\n",
    "from bs4 import BeautifulSoup\n",
    "soup = BeautifulSoup(html_content, 'html.parser')"
   ]
  },
  {
   "cell_type": "code",
   "execution_count": 4,
   "metadata": {},
   "outputs": [],
   "source": [
    "inner_body = soup.find_all('div', attrs={'class':'story-body__inner'})\n",
    "\n",
    "inner_text = [elm.text for elm in inner_body[0].find_all(['h1', 'h2', 'p', 'li']) ]\n",
    " \n",
    "text_content2 = '\\n'.join(inner_text)"
   ]
  },
  {
   "cell_type": "code",
   "execution_count": 6,
   "metadata": {},
   "outputs": [
    {
     "data": {
      "text/plain": [
       "['Project', 'Gutenberg', 'EBook', 'of', 'Crime']"
      ]
     },
     "execution_count": 6,
     "metadata": {},
     "output_type": "execute_result"
    }
   ],
   "source": [
    "import nltk\n",
    "text_content1 = content1.decode('unicode_escape')  # Converts bytes to unicode\n",
    "tokens1 = nltk.word_tokenize(text_content1)\n",
    "tokens1[3:8]"
   ]
  },
  {
   "cell_type": "code",
   "execution_count": 7,
   "metadata": {},
   "outputs": [
    {
     "data": {
      "text/plain": [
       "['Smokers', 'need', 'to', 'quit', 'cigarettes']"
      ]
     },
     "execution_count": 7,
     "metadata": {},
     "output_type": "execute_result"
    }
   ],
   "source": [
    "tokens2 = nltk.word_tokenize(text_content2)\n",
    "tokens2[:5]"
   ]
  },
  {
   "cell_type": "code",
   "execution_count": 8,
   "metadata": {},
   "outputs": [
    {
     "data": {
      "text/plain": [
       "751"
      ]
     },
     "execution_count": 8,
     "metadata": {},
     "output_type": "execute_result"
    }
   ],
   "source": [
    "len(tokens2)"
   ]
  },
  {
   "cell_type": "code",
   "execution_count": 9,
   "metadata": {},
   "outputs": [
    {
     "ename": "NameError",
     "evalue": "name 're' is not defined",
     "output_type": "error",
     "traceback": [
      "\u001b[1;31m----------------------------------------------------------------\u001b[0m",
      "\u001b[1;31mNameError\u001b[0m                      Traceback (most recent call last)",
      "\u001b[1;32m<ipython-input-9-d5793df837b9>\u001b[0m in \u001b[0;36m<module>\u001b[1;34m\u001b[0m\n\u001b[1;32m----> 1\u001b[1;33m \u001b[0mtokens2_2\u001b[0m \u001b[1;33m=\u001b[0m \u001b[0mre\u001b[0m\u001b[1;33m.\u001b[0m\u001b[0mfindall\u001b[0m\u001b[1;33m(\u001b[0m\u001b[1;34mr'\\w+'\u001b[0m\u001b[1;33m,\u001b[0m \u001b[0mtext_content2\u001b[0m\u001b[1;33m)\u001b[0m\u001b[1;33m\u001b[0m\u001b[1;33m\u001b[0m\u001b[0m\n\u001b[0m\u001b[0;32m      2\u001b[0m \u001b[0mlen\u001b[0m\u001b[1;33m(\u001b[0m\u001b[0mtokens2_2\u001b[0m\u001b[1;33m)\u001b[0m\u001b[1;33m\u001b[0m\u001b[1;33m\u001b[0m\u001b[0m\n",
      "\u001b[1;31mNameError\u001b[0m: name 're' is not defined"
     ]
    }
   ],
   "source": [
    "tokens2_2 = re.findall(r'\\w+', text_content2)\n",
    "len(tokens2_2)"
   ]
  },
  {
   "cell_type": "code",
   "execution_count": 10,
   "metadata": {},
   "outputs": [
    {
     "data": {
      "text/plain": [
       "668"
      ]
     },
     "execution_count": 10,
     "metadata": {},
     "output_type": "execute_result"
    }
   ],
   "source": [
    "import re\n",
    "tokens2_2 = re.findall(r'\\w+', text_content2)\n",
    "len(tokens2_2)"
   ]
  },
  {
   "cell_type": "code",
   "execution_count": 11,
   "metadata": {},
   "outputs": [
    {
     "data": {
      "text/plain": [
       "668"
      ]
     },
     "execution_count": 11,
     "metadata": {},
     "output_type": "execute_result"
    }
   ],
   "source": [
    "pattern = r'\\w+'\n",
    "tokens2_3 = nltk.regexp_tokenize(text_content2, pattern)\n",
    "len(tokens2_3)"
   ]
  },
  {
   "cell_type": "code",
   "execution_count": 12,
   "metadata": {},
   "outputs": [
    {
     "data": {
      "text/plain": [
       "nltk.text.Text"
      ]
     },
     "execution_count": 12,
     "metadata": {},
     "output_type": "execute_result"
    }
   ],
   "source": [
    "input_text2 = nltk.Text(tokens2)\n",
    "type(input_text2)"
   ]
  },
  {
   "cell_type": "code",
   "execution_count": 2,
   "metadata": {},
   "outputs": [
    {
     "name": "stdout",
     "output_type": "stream",
     "text": [
      "1572\n"
     ]
    }
   ],
   "source": [
    "# Hands on Code\n",
    "from urllib import request\n",
    "\n",
    "#Read the html content from the url link 'https://en.wikipedia.org/wiki/Python_(programming_language)'. \n",
    "#Store the content in variable html_content. \n",
    "url = \"https://en.wikipedia.org/wiki/Python_(programming_language)\"\n",
    "html_content = request.urlopen(url).read()\n",
    "\n",
    "#Create a BeautifulSoup object with html_content and html.parser. \n",
    "#Store the result in variable soup.\n",
    "from bs4 import BeautifulSoup\n",
    "soup = BeautifulSoup(html_content, 'html.parser')\n",
    "\n",
    "#Find the number of reference links present in soup object. Store the result in variable n_links. \n",
    "#Hint : Make use of find_all method and look of a tags. \n",
    "n_links=len(soup.find_all('a'))\n",
    "\n",
    "#print n_links\n",
    "print(n_links)"
   ]
  },
  {
   "cell_type": "code",
   "execution_count": 4,
   "metadata": {},
   "outputs": [
    {
     "data": {
      "text/plain": [
       "nltk.text.Text"
      ]
     },
     "execution_count": 4,
     "metadata": {},
     "output_type": "execute_result"
    }
   ],
   "source": [
    "import nltk \n",
    "import re \n",
    "from urllib import request\n",
    "\n",
    "url = \"http://www.gutenberg.org/files/2554/2554-0.txt\" \n",
    "content1 = request.urlopen(url).read() \n",
    "urlA = \"http://www.bbc.com/news/health-42802191\" \n",
    "html_content = request.urlopen(urlA).read() \n",
    "\n",
    "from bs4 import BeautifulSoup \n",
    "soup = BeautifulSoup(html_content, 'html.parser') \n",
    "inner_body = soup.find_all('div', attrs={'class': 'story-body__inner'}) \n",
    "inner_text = [elm.text for elm in inner_body[0].find_all(['h1', 'h2', 'p', 'li'])] \n",
    "text_content2 = '\\n'.join(inner_text) \n",
    "\n",
    "text_content1 = content1.decode('unicode_escape') # Converts bytes to unicode \n",
    "tokens1 = nltk.word_tokenize(text_content1) \n",
    "tokens1[3:8] \n",
    "\n",
    "tokens2 = nltk.word_tokenize(text_content2) \n",
    "tokens2[:5] \n",
    "len(tokens2) \n",
    "\n",
    "tokens2_2 = re.findall(r'\\w+', text_content2) \n",
    "len(tokens2_2) \n",
    "pattern = r'\\w+' \n",
    "\n",
    "tokens2_3 = nltk.regexp_tokenize(text_content2, pattern) \n",
    "len(tokens2_3) \n",
    "\n",
    "input_text2 = nltk.Text(tokens2) \n",
    "type(input_text2) "
   ]
  },
  {
   "cell_type": "code",
   "execution_count": 5,
   "metadata": {},
   "outputs": [
    {
     "name": "stdout",
     "output_type": "stream",
     "text": [
      "1572\n"
     ]
    }
   ],
   "source": [
    "#Read the html content from the url link 'https://en.wikipedia.org/wiki/Python_(programming_language)'. \n",
    "#Store the content in variable html_content. \n",
    "html_content1=request.urlopen('https://en.wikipedia.org/wiki/Python_(programming_language)').read() \n",
    "\n",
    "#Create a BeautifulSoup object with html_content and html.parser. \n",
    "#Store the result in variable soup. \n",
    "soup1=BeautifulSoup(html_content1,'html.parser') \n",
    "\n",
    "#Find the number of reference links present in soup object. Store the result in variable n_links. \n",
    "#Hint : Make use of find_all method and look of a tags. \n",
    "n_links=len(soup1.find_all('a')) \n",
    "\n",
    "#print n_links. \n",
    "print(n_links) "
   ]
  },
  {
   "cell_type": "code",
   "execution_count": 6,
   "metadata": {},
   "outputs": [
    {
     "name": "stdout",
     "output_type": "stream",
     "text": [
      "<class 'bs4.element.ResultSet'>\n",
      "[<tr>\n",
      "<th>Type\n",
      "</th>\n",
      "<th><a href=\"/wiki/Immutable_object\" title=\"Immutable object\">mutable</a>\n",
      "</th>\n",
      "<th>Description\n",
      "</th>\n",
      "<th>Syntax example\n",
      "</th></tr>, <tr>\n",
      "<td><code>bool</code>\n",
      "</td>\n",
      "<td>immutable\n",
      "</td>\n",
      "<td><a class=\"mw-redirect\" href=\"/wiki/Boolean_value\" title=\"Boolean value\">Boolean value</a>\n",
      "</td>\n",
      "<td><code>True</code><br/><code>False</code>\n",
      "</td></tr>, <tr>\n",
      "<td><code>bytearray</code>\n",
      "</td>\n",
      "<td>mutable\n",
      "</td>\n",
      "<td>Sequence of <a href=\"/wiki/Byte\" title=\"Byte\">bytes</a>\n",
      "</td>\n",
      "<td><code>bytearray(b'Some ASCII')</code><br/><code>bytearray(b\"Some ASCII\")</code><br/><code>bytearray([119, 105, 107, 105])</code>\n",
      "</td></tr>, <tr>\n",
      "<td><code>bytes</code>\n",
      "</td>\n",
      "<td>immutable\n",
      "</td>\n",
      "<td>Sequence of bytes\n",
      "</td>\n",
      "<td><code>b'Some ASCII'</code><br/><code>b\"Some ASCII\"</code><br/><code>bytes([119, 105, 107, 105])</code>\n",
      "</td></tr>, <tr>\n",
      "<td><code>complex</code>\n",
      "</td>\n",
      "<td>immutable\n",
      "</td>\n",
      "<td><a href=\"/wiki/Complex_number\" title=\"Complex number\">Complex number</a> with real and imaginary parts\n",
      "</td>\n",
      "<td><code>3+2.7j</code>\n",
      "</td></tr>, <tr>\n",
      "<td><code>dict</code>\n",
      "</td>\n",
      "<td>mutable\n",
      "</td>\n",
      "<td><a href=\"/wiki/Associative_array\" title=\"Associative array\">Associative array</a> (or dictionary) of key and value pairs; can contain mixed types (keys and values), keys must be a hashable type\n",
      "</td>\n",
      "<td><code>{'key1': 1.0, 3: False}</code>\n",
      "</td></tr>, <tr>\n",
      "<td><code>ellipsis</code><sup class=\"reference plainlinks nourlexpansion\" id=\"ref_inaccessible-type\"><a href=\"#endnote_inaccessible-type\">a</a></sup>\n",
      "</td>\n",
      "<td>immutable\n",
      "</td>\n",
      "<td>An <a class=\"mw-redirect\" href=\"/wiki/Ellipsis_(programming_operator)\" title=\"Ellipsis (programming operator)\">ellipsis</a> placeholder to be used as an index in <a href=\"/wiki/NumPy\" title=\"NumPy\">NumPy</a> arrays\n",
      "</td>\n",
      "<td><code>...</code><br/><code>Ellipsis</code>\n",
      "</td></tr>, <tr>\n",
      "<td><code>float</code>\n",
      "</td>\n",
      "<td>immutable\n",
      "</td>\n",
      "<td><a class=\"mw-redirect\" href=\"/wiki/Floating_point\" title=\"Floating point\">Floating point</a> number, system-defined precision\n",
      "</td>\n",
      "<td><code>3.1415927</code>\n",
      "</td></tr>, <tr>\n",
      "<td><code>frozenset</code>\n",
      "</td>\n",
      "<td>immutable\n",
      "</td>\n",
      "<td>Unordered <a class=\"mw-redirect\" href=\"/wiki/Set_(computer_science)\" title=\"Set (computer science)\">set</a>, contains no duplicates; can contain mixed types, if hashable\n",
      "</td>\n",
      "<td><code>frozenset([4.0, 'string', True])</code>\n",
      "</td></tr>, <tr>\n",
      "<td><code>int</code>\n",
      "</td>\n",
      "<td>immutable\n",
      "</td>\n",
      "<td><a href=\"/wiki/Integer_(computer_science)\" title=\"Integer (computer science)\">Integer</a> of unlimited magnitude<sup class=\"reference\" id=\"cite_ref-pep0237_82-0\"><a href=\"#cite_note-pep0237-82\">[82]</a></sup>\n",
      "</td>\n",
      "<td><code>42</code>\n",
      "</td></tr>, <tr>\n",
      "<td><code>list</code>\n",
      "</td>\n",
      "<td>mutable\n",
      "</td>\n",
      "<td><a class=\"mw-redirect\" href=\"/wiki/List_(computer_science)\" title=\"List (computer science)\">List</a>, can contain mixed types\n",
      "</td>\n",
      "<td><code>[4.0, 'string', True]</code>\n",
      "</td></tr>, <tr>\n",
      "<td><code>NoneType</code><sup class=\"reference plainlinks nourlexpansion\" id=\"ref_inaccessible-type\"><a href=\"#endnote_inaccessible-type\">a</a></sup>\n",
      "</td>\n",
      "<td>immutable\n",
      "</td>\n",
      "<td>An object representing the absence of a value.\n",
      "</td>\n",
      "<td><code>None</code>\n",
      "</td></tr>, <tr>\n",
      "<td><code>NotImplementedType</code><sup class=\"reference plainlinks nourlexpansion\" id=\"ref_inaccessible-type\"><a href=\"#endnote_inaccessible-type\">a</a></sup>\n",
      "</td>\n",
      "<td>immutable\n",
      "</td>\n",
      "<td>A placeholder that can be returned from <a href=\"/wiki/Operator_overloading\" title=\"Operator overloading\">overloaded operators</a> to indicate unsupported operand types.\n",
      "</td>\n",
      "<td><code>NotImplemented</code>\n",
      "</td></tr>, <tr>\n",
      "<td><code>set</code>\n",
      "</td>\n",
      "<td>mutable\n",
      "</td>\n",
      "<td>Unordered <a class=\"mw-redirect\" href=\"/wiki/Set_(computer_science)\" title=\"Set (computer science)\">set</a>, contains no duplicates; can contain mixed types, if hashable\n",
      "</td>\n",
      "<td><code>{4.0, 'string', True}</code>\n",
      "</td></tr>, <tr>\n",
      "<td><code>str</code>\n",
      "</td>\n",
      "<td>immutable\n",
      "</td>\n",
      "<td>A <a class=\"mw-redirect\" href=\"/wiki/Character_string\" title=\"Character string\">character string</a>: sequence of Unicode codepoints\n",
      "</td>\n",
      "<td><code>'Wikipedia'</code><br/><code>\"Wikipedia\"</code><br/><code>\"\"\"Spanning<br/>multiple<br/>lines\"\"\"</code>\n",
      "</td></tr>, <tr>\n",
      "<td><code>tuple</code>\n",
      "</td>\n",
      "<td>immutable\n",
      "</td>\n",
      "<td>Can contain mixed types\n",
      "</td>\n",
      "<td><code>(4.0, 'string', True)</code>\n",
      "</td></tr>]\n",
      "bool\n",
      "\n",
      "bytearray\n",
      "\n",
      "bytes\n",
      "\n",
      "complex\n",
      "\n",
      "dict\n",
      "\n",
      "ellipsisa\n",
      "\n",
      "float\n",
      "\n",
      "frozenset\n",
      "\n",
      "int\n",
      "\n",
      "list\n",
      "\n",
      "NoneTypea\n",
      "\n",
      "NotImplementedTypea\n",
      "\n",
      "set\n",
      "\n",
      "str\n",
      "\n",
      "tuple\n",
      "\n",
      "3\n",
      "2\n"
     ]
    }
   ],
   "source": [
    "#############Task2######################### \n",
    "#Find the table from soup object, having class attribute value wikitable. Store the result in variable table. \n",
    "#Hint: Make use of find method associated with soup object. \n",
    "vartable=soup1.find_all('table', attrs={'class': 'wikitable'}) \n",
    "\n",
    "#Find all rows of table. Store the result in rows. \n",
    "#Hint: Make use of find_all method on table and look for tr tags. \n",
    "rows=vartable[0].find_all('tr') \n",
    "print(type(rows)) \n",
    "print(rows) \n",
    "\n",
    "#Ignore the first row of rows, with expression rows = rows[1:] \n",
    "rows=rows[1:] \n",
    "\n",
    "#For every row perform the following tasks. \n",
    "#Find all columns associated with a row. \n",
    "#Hint: Make use of find_all on each row and look for td tags. \n",
    "#Select only the column from the obtained list of columns. \n",
    "#print the text associated with first column. \n",
    "#Hint: Make use of get_text method on the obatined column. \n",
    "for r in rows: print(r.find_all('td')[0].get_text()) \n",
    "    \n",
    "#How many number of words are obtained when the sentence Python is cool!!! is tokenized into words, with regular expression r'\\w+' \n",
    "exp=r'\\w+' \n",
    "sent=\"Python is cool!!!\" \n",
    "print(len(nltk.regexp_tokenize(sent, exp))) \n",
    "print(len(nltk.sent_tokenize(sent)))"
   ]
  },
  {
   "cell_type": "code",
   "execution_count": null,
   "metadata": {},
   "outputs": [],
   "source": []
  }
 ],
 "metadata": {
  "kernelspec": {
   "display_name": "Python 3",
   "language": "python",
   "name": "python3"
  },
  "language_info": {
   "codemirror_mode": {
    "name": "ipython",
    "version": 3
   },
   "file_extension": ".py",
   "mimetype": "text/x-python",
   "name": "python",
   "nbconvert_exporter": "python",
   "pygments_lexer": "ipython3",
   "version": "3.7.3"
  }
 },
 "nbformat": 4,
 "nbformat_minor": 2
}
